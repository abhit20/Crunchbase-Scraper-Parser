{
 "cells": [
  {
   "cell_type": "markdown",
   "metadata": {},
   "source": [
    "#### Contains the analysis presented in ICAIF 2021 Paper 'A Machine Learning Approach to Detect Early Signs of Startup Success'\n",
    "\n",
    "Author: Abhinav Nadh Thirupathi\n",
    "\n",
    "Run this notebook top to bottom to reproduce the results"
   ]
  },
  {
   "cell_type": "code",
   "execution_count": null,
   "metadata": {},
   "outputs": [],
   "source": [
    "import numpy as np\n",
    "import pandas as pd\n",
    "import matplotlib.pyplot as plt"
   ]
  },
  {
   "cell_type": "code",
   "execution_count": null,
   "metadata": {},
   "outputs": [],
   "source": [
    "data = pd.read_csv(\"data/study/study_data.csv\",low_memory=False)"
   ]
  },
  {
   "cell_type": "markdown",
   "metadata": {},
   "source": [
    "## Data Normalization"
   ]
  },
  {
   "cell_type": "code",
   "execution_count": null,
   "metadata": {
    "scrolled": true
   },
   "outputs": [],
   "source": [
    "from scipy import stats\n",
    "\n",
    "cols = data.columns.values\n",
    "\n",
    "# Groups the companies by 'Years Since Founded' and standardizes non-binary features in each group\n",
    "for col in cols[:-2]:\n",
    "    if col.startswith('Details.Description') or col.startswith('Website.') or col.startswith('Overview') or col.startswith('Education') or col.startswith('Major'):\n",
    "        if col not in [\"Overview.Gender.Agender\", \"Overview.Gender.Non-Binary\"]:\n",
    "            data[col] = data.groupby('Details.Years Since Founded')[col].transform(lambda x : stats.zscore(x,ddof=1,nan_policy='omit'))"
   ]
  },
  {
   "cell_type": "markdown",
   "metadata": {},
   "source": [
    "## LOOCV"
   ]
  },
  {
   "cell_type": "code",
   "execution_count": null,
   "metadata": {},
   "outputs": [],
   "source": [
    "# Splits the data into features and target\n",
    "Y = data[data.columns[-2:]].copy()\n",
    "X = data.drop(columns=['Target', 'Details.Years Since Founded'])"
   ]
  },
  {
   "cell_type": "code",
   "execution_count": null,
   "metadata": {},
   "outputs": [],
   "source": [
    "import xgboost as xgb\n",
    "\n",
    "xg = xgb.XGBClassifier(random_state=1)\n",
    "xg.fit(X,Y['Target'])"
   ]
  },
  {
   "cell_type": "markdown",
   "metadata": {},
   "source": [
    "### Permutation Importance"
   ]
  },
  {
   "cell_type": "code",
   "execution_count": null,
   "metadata": {},
   "outputs": [],
   "source": [
    "from sklearn import inspection\n",
    "r = inspection.permutation_importance(xg, X, Y['Target'], n_repeats=3160, random_state=1, n_jobs=-1)"
   ]
  },
  {
   "cell_type": "code",
   "execution_count": null,
   "metadata": {
    "scrolled": true
   },
   "outputs": [],
   "source": [
    "for i in r.importances_mean.argsort()[::-1]:\n",
    "    if r.importances_mean[i] - 2 * r.importances_std[i] > 0:\n",
    "        print(\"{:<8}: {:.3f} +/- {:.3f}\".format(X.columns.values[i],r.importances_mean[i],r.importances_std[i]))"
   ]
  },
  {
   "cell_type": "markdown",
   "metadata": {},
   "source": [
    "### SHAP Feature Importance"
   ]
  },
  {
   "cell_type": "code",
   "execution_count": null,
   "metadata": {
    "scrolled": true
   },
   "outputs": [],
   "source": [
    "import shap \n",
    "\n",
    "shap_values = shap.TreeExplainer(xg).shap_values(X)\n",
    "pd.DataFrame((zip(X.columns[np.argsort(np.abs(shap_values).mean(0))], \n",
    "                  np.abs(shap_values).mean(0)[np.argsort(np.abs(shap_values).mean(0))])), \n",
    "             columns=[\"Feature\", \"Importance\" ]).sort_values(by=['Importance'], ascending=False)"
   ]
  },
  {
   "cell_type": "code",
   "execution_count": null,
   "metadata": {},
   "outputs": [],
   "source": [
    "shap.summary_plot(shap_values, X, plot_type=\"bar\")"
   ]
  },
  {
   "cell_type": "markdown",
   "metadata": {},
   "source": [
    "### Performance Metrics"
   ]
  },
  {
   "cell_type": "code",
   "execution_count": null,
   "metadata": {},
   "outputs": [],
   "source": [
    "import xgboost as xgb\n",
    "from sklearn import model_selection\n",
    "from sklearn import metrics\n",
    "\n",
    "xg1 = xgb.XGBClassifier(random_state=1)\n",
    "Y_proba = model_selection.cross_val_predict(xg1, X, Y['Target'], cv=model_selection.LeaveOneOut(), n_jobs=-1, method='predict_proba')"
   ]
  },
  {
   "cell_type": "code",
   "execution_count": null,
   "metadata": {},
   "outputs": [],
   "source": [
    "Y_hat = np.argsort(Y_proba,axis=1)[:,1]\n",
    "Y_proba1 = Y_proba[:,1]\n",
    "\n",
    "print(\"AUC        : \", metrics.roc_auc_score(Y['Target'], Y_proba1))\n",
    "print(\"Accuracy   : \", metrics.accuracy_score(Y['Target'], Y_hat))\n",
    "print(\"Precision  : \", metrics.precision_score(Y['Target'], Y_hat))\n",
    "print(\"Recall     : \", metrics.recall_score(Y['Target'], Y_hat))\n",
    "print(\"F-score    : \", metrics.f1_score(Y['Target'], Y_hat))\n",
    "print(\"Brier Score: \", metrics.brier_score_loss(Y['Target'], Y_hat))"
   ]
  },
  {
   "cell_type": "markdown",
   "metadata": {},
   "source": [
    "### Prediction Thresholds"
   ]
  },
  {
   "cell_type": "code",
   "execution_count": null,
   "metadata": {},
   "outputs": [],
   "source": [
    "fpr, tpr, thresholds = metrics.roc_curve(Y['Target'], Y_proba1)"
   ]
  },
  {
   "cell_type": "code",
   "execution_count": null,
   "metadata": {
    "scrolled": true
   },
   "outputs": [],
   "source": [
    "print('{:<30}{:<30}'.format('FPR', 'TPR', 'Threshold'))\n",
    "for x, y, z in zip(fpr,tpr,thresholds):\n",
    "    print('{:<30}{:<30}{:<30}'.format(x, y, z))"
   ]
  },
  {
   "cell_type": "markdown",
   "metadata": {},
   "source": [
    "### Reliability Diagram"
   ]
  },
  {
   "cell_type": "code",
   "execution_count": null,
   "metadata": {},
   "outputs": [],
   "source": [
    "from sklearn import calibration\n",
    "\n",
    "probs = xg.predict_proba(X)[:,1]\n",
    "fraction_of_positives, mean_predicted_value = calibration.calibration_curve(Y['Target'], probs, n_bins = 10)\n",
    "\n",
    "ax1 = plt.figure()\n",
    "\n",
    "plt.plot(mean_predicted_value, fraction_of_positives, marker = '.', label = 'XGBoost')\n",
    "plt.xlabel('Mean Predicted Value')\n",
    "plt.ylabel('Fraction of Positives')\n",
    "plt.tight_layout()\n",
    "plt.show()"
   ]
  }
 ],
 "metadata": {
  "kernelspec": {
   "display_name": "Python 3",
   "language": "python",
   "name": "python3"
  },
  "language_info": {
   "codemirror_mode": {
    "name": "ipython",
    "version": 3
   },
   "file_extension": ".py",
   "mimetype": "text/x-python",
   "name": "python",
   "nbconvert_exporter": "python",
   "pygments_lexer": "ipython3",
   "version": "3.7.10"
  }
 },
 "nbformat": 4,
 "nbformat_minor": 4
}
